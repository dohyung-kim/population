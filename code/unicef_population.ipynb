{
 "cells": [
  {
   "cell_type": "code",
   "execution_count": 11,
   "metadata": {},
   "outputs": [],
   "source": [
    "import subprocess\n",
    "import pandas as pd\n",
    "import os\n",
    "import shutil"
   ]
  },
  {
   "cell_type": "code",
   "execution_count": 12,
   "metadata": {},
   "outputs": [],
   "source": [
    "ISO_csv='ISO_codes.csv'"
   ]
  },
  {
   "cell_type": "code",
   "execution_count": 13,
   "metadata": {},
   "outputs": [],
   "source": [
    "top_foler='/home/dohyungkim/population'\n",
    "year='2015'\n",
    "\n",
    "ISO_csv='ISO_codes.csv'\n",
    "ISOs=pd.read_csv(os.path.join(top_foler, ISO_csv))[\"ISO3\"]"
   ]
  },
  {
   "cell_type": "code",
   "execution_count": 15,
   "metadata": {},
   "outputs": [
    {
     "name": "stdout",
     "output_type": "stream",
     "text": [
      "AFG\n"
     ]
    }
   ],
   "source": [
    "for ISO in ISOs:\n",
    "    if not os.path.exists(os.path.join(top_foler,ISO,'population_'+ISO+'.tif')):\n",
    "        print(ISO +\" processing started\")\n",
    "        cmd='python 1_prep_data.py' + ' '\n",
    "        cmd+=top_foler + ' ' +ISO + ' ' + year\n",
    "        proc = subprocess.Popen(cmd,shell=True,stdout=subprocess.PIPE,stderr=subprocess.PIPE)\n",
    "        stdout,stderr=proc.communicate()\n",
    "\n",
    "        cmd='python 2_random_forest.py' + ' '\n",
    "        cmd+=top_foler + ' ' +ISO + ' ' + year\n",
    "        proc = subprocess.Popen(cmd,shell=True,stdout=subprocess.PIPE,stderr=subprocess.PIPE)\n",
    "        stdout,stderr=proc.communicate()\n",
    "\n",
    "        cmd='python 3_rf_prediction.py' + ' '\n",
    "        cmd+=top_foler + ' ' +ISO + ' ' + year\n",
    "        proc = subprocess.Popen(cmd,shell=True,stdout=subprocess.PIPE,stderr=subprocess.PIPE)\n",
    "        stdout,stderr=proc.communicate()\n",
    "\n",
    "        cmd='python 4_wp_2_fb.py' + ' '\n",
    "        cmd+=top_foler + ' ' +ISO + ' ' + year\n",
    "        proc = subprocess.Popen(cmd,shell=True,stdout=subprocess.PIPE,stderr=subprocess.PIPE)\n",
    "        stdout,stderr=proc.communicate()\n",
    "\n",
    "        cmd='python 5_gmm_clustering.py' + ' '\n",
    "        cmd+=top_foler + ' ' +ISO + ' ' + year\n",
    "        proc = subprocess.Popen(cmd,shell=True,stdout=subprocess.PIPE,stderr=subprocess.PIPE)\n",
    "        stdout,stderr=proc.communicate()\n",
    "\n",
    "        cmd='python 6_census_aggregation.py' + ' '\n",
    "        cmd+=top_foler + ' ' +ISO + ' ' + year\n",
    "        proc = subprocess.Popen(cmd,shell=True,stdout=subprocess.PIPE,stderr=subprocess.PIPE)\n",
    "        stdout,stderr=proc.communicate()\n",
    "\n",
    "        cmd='python 7_conditional_regression.py' + ' '\n",
    "        cmd+=top_foler + ' ' +ISO + ' ' + year\n",
    "        proc = subprocess.Popen(cmd,shell=True,stdout=subprocess.PIPE,stderr=subprocess.PIPE)\n",
    "        stdout,stderr=proc.communicate()\n",
    "        \n",
    "        if not os.path.exists(os.path.join(top_foler,ISO,'population_'+ISO+'.tif')):\n",
    "            shutil.rmtree(os.path.join(top_foler,ISO))\n",
    "\n",
    "        print(ISO + \" processing finished!\")"
   ]
  }
 ],
 "metadata": {
  "kernelspec": {
   "display_name": "Python 3",
   "language": "python",
   "name": "python3"
  },
  "language_info": {
   "codemirror_mode": {
    "name": "ipython",
    "version": 3
   },
   "file_extension": ".py",
   "mimetype": "text/x-python",
   "name": "python",
   "nbconvert_exporter": "python",
   "pygments_lexer": "ipython3",
   "version": "3.7.3"
  }
 },
 "nbformat": 4,
 "nbformat_minor": 4
}
