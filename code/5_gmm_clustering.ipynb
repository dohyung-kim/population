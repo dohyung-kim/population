{
 "cells": [
  {
   "cell_type": "markdown",
   "metadata": {},
   "source": [
    "# Gaussian Mixture Analysis for clustering"
   ]
  },
  {
   "cell_type": "code",
   "execution_count": 1,
   "metadata": {},
   "outputs": [],
   "source": [
    "import numpy as np\n",
    "from sklearn.mixture import GaussianMixture\n",
    "import rasterio\n",
    "import pandas as pd\n",
    "import os\n",
    "import sys\n",
    "import argparse \n",
    "import multiprocessing as mp\n",
    "import tqdm\n",
    "from matplotlib import pyplot as plt\n",
    "import random"
   ]
  },
  {
   "cell_type": "code",
   "execution_count": 2,
   "metadata": {},
   "outputs": [
    {
     "name": "stdout",
     "output_type": "stream",
     "text": [
      "----------------------------------------------------------\n",
      "Population data process 5/7: clustering popluation weights\n",
      "----------------------------------------------------------\n"
     ]
    }
   ],
   "source": [
    "print('----------------------------------------------------------')\n",
    "print('Population data process 5/7: clustering popluation weights')\n",
    "print('----------------------------------------------------------')"
   ]
  },
  {
   "cell_type": "code",
   "execution_count": 3,
   "metadata": {},
   "outputs": [],
   "source": [
    "#setting up paths for files\n",
    "#top_folder=\"/home/dohyungkim/population\"\n",
    "#ISO=\"PER\"\n",
    "#year=\"2015\""
   ]
  },
  {
   "cell_type": "code",
   "execution_count": null,
   "metadata": {},
   "outputs": [],
   "source": [
    "# Initialize parser \n",
    "my_parser = argparse.ArgumentParser(description='initial input')\n",
    "my_parser.add_argument('top_folder',metavar='top_folder',type=str,help='working folder')\n",
    "my_parser.add_argument('ISO',metavar='ISO',type=str,help='3 character country iso code')\n",
    "my_parser.add_argument('year',metavar='year',type=str,help='population year')\n",
    "args = my_parser.parse_args()\n",
    "top_folder = args.top_folder\n",
    "ISO = args.ISO\n",
    "year = args.year\n",
    "if not os.path.isdir(top_folder):\n",
    "    print('The path specified does not exist')\n",
    "    sys.exit()"
   ]
  },
  {
   "cell_type": "code",
   "execution_count": 4,
   "metadata": {},
   "outputs": [],
   "source": [
    "fb_path=os.path.join(top_folder,ISO,\"fb_data\")\n",
    "wp_path=os.path.join(top_folder,ISO,\"wp_data\")"
   ]
  },
  {
   "cell_type": "code",
   "execution_count": 5,
   "metadata": {},
   "outputs": [],
   "source": [
    "fb_file=os.path.join(fb_path,'out_tiles', \"fb_weight.vrt\") #weight file from worldpop script"
   ]
  },
  {
   "cell_type": "code",
   "execution_count": 6,
   "metadata": {},
   "outputs": [],
   "source": [
    "fb_img=rasterio.open(fb_file)\n",
    "transform=fb_img.transform"
   ]
  },
  {
   "cell_type": "code",
   "execution_count": 7,
   "metadata": {},
   "outputs": [],
   "source": [
    "fb_arr=fb_img.read(1)\n",
    "shape=fb_arr.shape"
   ]
  },
  {
   "cell_type": "code",
   "execution_count": 8,
   "metadata": {},
   "outputs": [],
   "source": [
    "fb_arr=fb_arr.reshape(-1, 1)"
   ]
  },
  {
   "cell_type": "code",
   "execution_count": 9,
   "metadata": {},
   "outputs": [],
   "source": [
    "shape2=fb_arr.shape"
   ]
  },
  {
   "cell_type": "code",
   "execution_count": 10,
   "metadata": {},
   "outputs": [],
   "source": [
    "select=np.where(~np.isnan(fb_arr))\n",
    "select_arr=fb_arr[select]"
   ]
  },
  {
   "cell_type": "code",
   "execution_count": 11,
   "metadata": {},
   "outputs": [],
   "source": [
    "#select_arr=select_arr.reshape(-1, 1)"
   ]
  },
  {
   "cell_type": "code",
   "execution_count": 12,
   "metadata": {
    "scrolled": true
   },
   "outputs": [],
   "source": [
    "del fb_arr"
   ]
  },
  {
   "cell_type": "code",
   "execution_count": 13,
   "metadata": {
    "scrolled": true
   },
   "outputs": [],
   "source": [
    "np.random.seed(0)\n",
    "x_arr=np.random.choice(select_arr,100000)\n",
    "x_arr=x_arr.reshape(-1, 1)"
   ]
  },
  {
   "cell_type": "code",
   "execution_count": 14,
   "metadata": {},
   "outputs": [],
   "source": [
    "def gmm(n_comp):\n",
    "    model=GaussianMixture(n_comp, covariance_type='full', random_state=0).fit(x_arr)\n",
    "    return model"
   ]
  },
  {
   "cell_type": "code",
   "execution_count": 15,
   "metadata": {
    "scrolled": false
   },
   "outputs": [
    {
     "name": "stderr",
     "output_type": "stream",
     "text": [
      "100%|██████████| 99/99 [01:21<00:00,  1.21it/s]\n"
     ]
    }
   ],
   "source": [
    "n_components = np.arange(1,100)\n",
    "number_processes = 5\n",
    "p = mp.Pool(number_processes)\n",
    "models = list(tqdm.tqdm(p.map(gmm, n_components), total=len(n_components)))\n",
    "p.close()\n",
    "p.join()"
   ]
  },
  {
   "cell_type": "code",
   "execution_count": 16,
   "metadata": {},
   "outputs": [],
   "source": [
    "def bic(model):\n",
    "    bic=model.bic(x_arr)\n",
    "    return bic"
   ]
  },
  {
   "cell_type": "code",
   "execution_count": 17,
   "metadata": {},
   "outputs": [],
   "source": [
    "def aic(model):\n",
    "    aic=model.aic(x_arr)\n",
    "    return aic"
   ]
  },
  {
   "cell_type": "code",
   "execution_count": 18,
   "metadata": {
    "scrolled": true
   },
   "outputs": [
    {
     "name": "stderr",
     "output_type": "stream",
     "text": [
      "100%|██████████| 99/99 [00:10<00:00,  9.55it/s]\n"
     ]
    }
   ],
   "source": [
    "p = mp.Pool()\n",
    "aics = list(tqdm.tqdm(p.map(aic, models), total=len(models)))\n",
    "p.close()\n",
    "p.join()"
   ]
  },
  {
   "cell_type": "code",
   "execution_count": 19,
   "metadata": {
    "scrolled": true
   },
   "outputs": [
    {
     "name": "stderr",
     "output_type": "stream",
     "text": [
      "100%|██████████| 99/99 [00:10<00:00,  9.81it/s]\n"
     ]
    }
   ],
   "source": [
    "p = mp.Pool()\n",
    "bics = list(tqdm.tqdm(p.map(bic, models), total=len(models)))\n",
    "p.close()\n",
    "p.join()"
   ]
  },
  {
   "cell_type": "code",
   "execution_count": 20,
   "metadata": {},
   "outputs": [
    {
     "data": {
      "image/png": "[encoded data removed]",
      "text/plain": [
       "<Figure size 432x288 with 1 Axes>"
      ]
     },
     "metadata": {
      "needs_background": "light"
     },
     "output_type": "display_data"
    }
   ],
   "source": [
    "plt.plot(n_components, bics, label='BIC')\n",
    "plt.plot(n_components, aics, label='AIC')\n",
    "plt.legend(loc='best')\n",
    "plt.xlabel('n_components');\n",
    "plt.savefig(os.path.join(top_folder,ISO,\"gmm.png\"), dpi=100)"
   ]
  },
  {
   "cell_type": "code",
   "execution_count": 23,
   "metadata": {
    "scrolled": true
   },
   "outputs": [
    {
     "name": "stdout",
     "output_type": "stream",
     "text": [
      "minimum aic at:56\n",
      "minimum bic at:21\n"
     ]
    }
   ],
   "source": [
    "min_bic=n_components[np.argmin(bics)]\n",
    "min_aic=n_components[np.argmin(aics)]\n",
    "print(\"minimum aic at:\"+str(min_aic))\n",
    "print(\"minimum bic at:\"+str(min_bic))\n",
    "n_component=np.min([min_aic, min_bic])"
   ]
  },
  {
   "cell_type": "code",
   "execution_count": 24,
   "metadata": {},
   "outputs": [],
   "source": [
    "clf=models[n_component-1]"
   ]
  },
  {
   "cell_type": "code",
   "execution_count": 25,
   "metadata": {},
   "outputs": [],
   "source": [
    "means_init=np.argsort(clf.means_, axis=0)"
   ]
  },
  {
   "cell_type": "code",
   "execution_count": 26,
   "metadata": {},
   "outputs": [],
   "source": [
    "predict=clf.predict(select_arr.reshape(-1, 1))\n",
    "predict_org=predict.copy()"
   ]
  },
  {
   "cell_type": "code",
   "execution_count": 27,
   "metadata": {},
   "outputs": [],
   "source": [
    "for i in range(len(means_init)):\n",
    "    predict[np.where(predict_org==means_init[i][0])]=i"
   ]
  },
  {
   "cell_type": "code",
   "execution_count": 28,
   "metadata": {},
   "outputs": [],
   "source": [
    "#mean, min, max values of weighting layer\n",
    "arr_max=np.zeros(len(clf.means_))\n",
    "arr_min=np.zeros(len(clf.means_))\n",
    "arr_mean=np.sort([x[0] for x in clf.means_])"
   ]
  },
  {
   "cell_type": "code",
   "execution_count": 29,
   "metadata": {},
   "outputs": [],
   "source": [
    "for i in range(len(clf.means_)):\n",
    "    arr_max[i]=np.max(select_arr[np.where(predict==i)])\n",
    "    arr_mean[i]=np.mean(select_arr[np.where(predict==i)])\n",
    "    arr_min[i]=np.min(select_arr[np.where(predict==i)])"
   ]
  },
  {
   "cell_type": "code",
   "execution_count": 30,
   "metadata": {},
   "outputs": [],
   "source": [
    "del select_arr"
   ]
  },
  {
   "cell_type": "code",
   "execution_count": 31,
   "metadata": {},
   "outputs": [],
   "source": [
    "df_bnd=pd.DataFrame([arr_mean,arr_min,arr_max]).transpose()\n",
    "df_bnd.columns=['mean', 'min', 'max']\n",
    "df_bnd.to_pickle(os.path.join(wp_path,\"df_bnd.pkl\"))"
   ]
  },
  {
   "cell_type": "code",
   "execution_count": 32,
   "metadata": {},
   "outputs": [],
   "source": [
    "predict=predict+1"
   ]
  },
  {
   "cell_type": "code",
   "execution_count": 33,
   "metadata": {},
   "outputs": [],
   "source": [
    "fb_arr = np.ndarray(shape=shape2, dtype=np.uint8)"
   ]
  },
  {
   "cell_type": "code",
   "execution_count": 34,
   "metadata": {},
   "outputs": [],
   "source": [
    "fb_arr[select] = predict"
   ]
  },
  {
   "cell_type": "code",
   "execution_count": 35,
   "metadata": {},
   "outputs": [],
   "source": [
    "fb_arr=fb_arr.reshape(shape)"
   ]
  },
  {
   "cell_type": "code",
   "execution_count": 36,
   "metadata": {},
   "outputs": [
    {
     "name": "stdout",
     "output_type": "stream",
     "text": [
      "clustering finished..saving clusters as a tif file\n"
     ]
    }
   ],
   "source": [
    "print('clustering finished..saving clusters as a tif file')"
   ]
  },
  {
   "cell_type": "code",
   "execution_count": 37,
   "metadata": {},
   "outputs": [],
   "source": [
    "with rasterio.open(os.path.join(wp_path,'fb_weight_gmm.tif'),\n",
    "                   'w', \n",
    "                   driver='GTiff',\n",
    "                   height=shape[0],\n",
    "                   width=shape[1],\n",
    "                   count=1,\n",
    "                   dtype=fb_arr.dtype,\n",
    "                   crs='+proj=latlong',\n",
    "                   transform=transform,\n",
    "                   compress='lzw'\n",
    ") as dst:\n",
    "    dst.write(fb_arr, 1)"
   ]
  },
  {
   "cell_type": "code",
   "execution_count": 38,
   "metadata": {},
   "outputs": [],
   "source": [
    "df_info=pd.read_pickle(os.path.join(top_folder,ISO,\"df_info.pkl\"))\n",
    "df_info[\"n_component\"]=n_component\n",
    "df_info.to_pickle(os.path.join(top_folder,ISO,\"df_info.pkl\"))"
   ]
  },
  {
   "cell_type": "code",
   "execution_count": null,
   "metadata": {},
   "outputs": [],
   "source": []
  }
 ],
 "metadata": {
  "kernelspec": {
   "display_name": "Python 3",
   "language": "python",
   "name": "python3"
  },
  "language_info": {
   "codemirror_mode": {
    "name": "ipython",
    "version": 3
   },
   "file_extension": ".py",
   "mimetype": "text/x-python",
   "name": "python",
   "nbconvert_exporter": "python",
   "pygments_lexer": "ipython3",
   "version": "3.7.3"
  }
 },
 "nbformat": 4,
 "nbformat_minor": 2
}
