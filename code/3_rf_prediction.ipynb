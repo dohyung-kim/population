{
 "cells": [
  {
   "cell_type": "markdown",
   "metadata": {},
   "source": [
    "# Make a population weight file using RF model"
   ]
  },
  {
   "cell_type": "code",
   "execution_count": 1,
   "metadata": {},
   "outputs": [],
   "source": [
    "import os\n",
    "import sys\n",
    "import argparse \n",
    "import pickle\n",
    "import rasterio\n",
    "import pandas as pd\n",
    "import numpy as np\n",
    "import tqdm\n",
    "import gdal\n",
    "import glob\n",
    "import itertools\n",
    "import multiprocess as mp"
   ]
  },
  {
   "cell_type": "code",
   "execution_count": 2,
   "metadata": {},
   "outputs": [
    {
     "name": "stdout",
     "output_type": "stream",
     "text": [
      "-----------------------------------------------------------\n",
      "Population data process 3/7: random forest model prediction\n",
      "-----------------------------------------------------------\n"
     ]
    }
   ],
   "source": [
    "print('-----------------------------------------------------------')\n",
    "print('Population data process 3/7: random forest model prediction')\n",
    "print('-----------------------------------------------------------')"
   ]
  },
  {
   "cell_type": "code",
   "execution_count": 3,
   "metadata": {},
   "outputs": [],
   "source": [
    "#setting up paths for files\n",
    "#top_folder=\"/home/dohyungkim/population\"\n",
    "#ISO=\"SGP\"\n",
    "#year=\"2015\""
   ]
  },
  {
   "cell_type": "code",
   "execution_count": null,
   "metadata": {},
   "outputs": [],
   "source": [
    "# Initialize parser \n",
    "my_parser = argparse.ArgumentParser(description='initial input')\n",
    "my_parser.add_argument('top_folder',metavar='top_folder',type=str,help='working folder')\n",
    "my_parser.add_argument('ISO',metavar='ISO',type=str,help='3 character country iso code')\n",
    "my_parser.add_argument('year',metavar='year',type=str,help='population year')\n",
    "args = my_parser.parse_args()\n",
    "top_folder = args.top_folder\n",
    "ISO = args.ISO\n",
    "year = args.year\n",
    "if not os.path.isdir(top_folder):\n",
    "    print('The path specified does not exist')\n",
    "    sys.exit()"
   ]
  },
  {
   "cell_type": "code",
   "execution_count": 4,
   "metadata": {},
   "outputs": [],
   "source": [
    "#import the trained rf model at cluster level to make predictions at 100m resolution\n",
    "wp_path=os.path.join(top_folder,ISO,\"wp_data\")\n",
    "tif_path=os.path.join(wp_path,'tif')\n",
    "vrt_path=os.path.join(tif_path,'vrt_tiles')\n",
    "prd_path=os.path.join(wp_path,'prd_files')\n",
    "\n",
    "rf_file = 'rf_model'\n",
    "with open(os.path.join(os.path.join(top_folder,ISO), rf_file), 'rb') as f:\n",
    "    rf = pickle.load(f)"
   ]
  },
  {
   "cell_type": "code",
   "execution_count": 5,
   "metadata": {},
   "outputs": [],
   "source": [
    "#max_number_processes=10\n",
    "p = mp.Pool()"
   ]
  },
  {
   "cell_type": "code",
   "execution_count": 6,
   "metadata": {
    "scrolled": true
   },
   "outputs": [],
   "source": [
    "tif_tiles=os.listdir(vrt_path)"
   ]
  },
  {
   "cell_type": "code",
   "execution_count": 7,
   "metadata": {},
   "outputs": [
    {
     "name": "stdout",
     "output_type": "stream",
     "text": [
      "start random forest model prediction\n"
     ]
    }
   ],
   "source": [
    "print('start random forest model prediction')"
   ]
  },
  {
   "cell_type": "code",
   "execution_count": 8,
   "metadata": {},
   "outputs": [],
   "source": [
    "def rf_predict(file_name):    \n",
    "    try:\n",
    "        raster_tif = rasterio.open(os.path.join(vrt_path,file_name))\n",
    "        vals=raster_tif.read()\n",
    "        arr_shp=list(vals.shape)\n",
    "        vals=vals.reshape(arr_shp[0],arr_shp[1]*arr_shp[2])\n",
    "        result=rf.predict(vals.T).reshape(arr_shp[1],arr_shp[2])\n",
    "        result=result.astype(np.float32)\n",
    "        with rasterio.open(\n",
    "            os.path.join(prd_path, file_name),\n",
    "            'w',\n",
    "            driver='GTiff',\n",
    "            height=arr_shp[1],\n",
    "            width=arr_shp[2],\n",
    "            count=1,\n",
    "            dtype=result.dtype,\n",
    "            crs=raster_tif.crs,\n",
    "            transform=raster_tif.transform\n",
    "        ) as dst:\n",
    "            dst.write(result, 1)\n",
    "        #time.sleep(.1)\n",
    "        return(1)\n",
    "    except:\n",
    "        return(0)"
   ]
  },
  {
   "cell_type": "code",
   "execution_count": 9,
   "metadata": {
    "scrolled": false
   },
   "outputs": [
    {
     "name": "stderr",
     "output_type": "stream",
     "text": [
      "100%|██████████| 2730/2730 [04:15<00:00, 10.70it/s]\n"
     ]
    }
   ],
   "source": [
    "#results = p.map(rf_predict, rf_where[0:100])\n",
    "results = list(tqdm.tqdm(p.imap_unordered(rf_predict, tif_tiles), total=len(tif_tiles)))\n"
   ]
  },
  {
   "cell_type": "code",
   "execution_count": 29,
   "metadata": {},
   "outputs": [],
   "source": [
    "p.close()\n",
    "p.join()"
   ]
  },
  {
   "cell_type": "code",
   "execution_count": 30,
   "metadata": {},
   "outputs": [],
   "source": [
    "prd_files=glob.glob(prd_path + '/*.tif')"
   ]
  },
  {
   "cell_type": "code",
   "execution_count": 31,
   "metadata": {},
   "outputs": [],
   "source": [
    "os.chdir(prd_path)\n",
    "vrt=gdal.BuildVRT(os.path.join(prd_path,\"rf_predict.vrt\"), prd_files)\n",
    "vrt.FlushCache()"
   ]
  },
  {
   "cell_type": "code",
   "execution_count": null,
   "metadata": {},
   "outputs": [],
   "source": []
  }
 ],
 "metadata": {
  "kernelspec": {
   "display_name": "Python 3",
   "language": "python",
   "name": "python3"
  },
  "language_info": {
   "codemirror_mode": {
    "name": "ipython",
    "version": 3
   },
   "file_extension": ".py",
   "mimetype": "text/x-python",
   "name": "python",
   "nbconvert_exporter": "python",
   "pygments_lexer": "ipython3",
   "version": "3.7.3"
  }
 },
 "nbformat": 4,
 "nbformat_minor": 2
}
