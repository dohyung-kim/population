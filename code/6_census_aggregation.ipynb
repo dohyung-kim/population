{
 "cells": [
  {
   "cell_type": "markdown",
   "metadata": {},
   "source": [
    "## Preapare data for regression\n",
    "#prepare case data for conditional regression to calculate population density for each cluster\n",
    "#pixel level population weights are aggregated into various combinations of admin units\n",
    "#this is to deal with the matter of MAUP"
   ]
  },
  {
   "cell_type": "code",
   "execution_count": 1,
   "metadata": {},
   "outputs": [],
   "source": [
    "import numpy as np\n",
    "import rasterio\n",
    "import rasterio.mask as mask\n",
    "import geopandas as gpd\n",
    "import pandas as pd\n",
    "import tqdm\n",
    "import os\n",
    "import sys\n",
    "import argparse \n",
    "import multiprocessing as mp"
   ]
  },
  {
   "cell_type": "code",
   "execution_count": 2,
   "metadata": {},
   "outputs": [
    {
     "name": "stdout",
     "output_type": "stream",
     "text": [
      "-----------------------------------------------------------------------------\n",
      "Population data process 6/7: preparing census data for conditional regression\n",
      "-----------------------------------------------------------------------------\n"
     ]
    }
   ],
   "source": [
    "print('-----------------------------------------------------------------------------')\n",
    "print('Population data process 6/7: preparing census data for conditional regression')\n",
    "print('-----------------------------------------------------------------------------')"
   ]
  },
  {
   "cell_type": "code",
   "execution_count": 3,
   "metadata": {},
   "outputs": [],
   "source": [
    "#setting up paths for files\n",
    "#top_folder=\"/home/dohyungkim/population\"\n",
    "#ISO=\"SGP\"\n",
    "#year=\"2015\""
   ]
  },
  {
   "cell_type": "code",
   "execution_count": 26,
   "metadata": {},
   "outputs": [],
   "source": [
    "# Initialize parser \n",
    "my_parser = argparse.ArgumentParser(description='initial input')\n",
    "my_parser.add_argument('top_folder',metavar='top_folder',type=str,help='working folder')\n",
    "my_parser.add_argument('ISO',metavar='ISO',type=str,help='3 character country iso code')\n",
    "my_parser.add_argument('year',metavar='year',type=str,help='population year')\n",
    "args = my_parser.parse_args()\n",
    "top_folder = args.top_folder\n",
    "ISO = args.ISO\n",
    "year = args.year\n",
    "if not os.path.isdir(top_folder):\n",
    "    print('The path specified does not exist')\n",
    "    sys.exit()"
   ]
  },
  {
   "cell_type": "code",
   "execution_count": 4,
   "metadata": {},
   "outputs": [],
   "source": [
    "df_info=pd.read_pickle(os.path.join(top_folder,ISO,\"df_info.pkl\"))\n",
    "n_component=int(df_info[\"n_component\"])"
   ]
  },
  {
   "cell_type": "code",
   "execution_count": 5,
   "metadata": {},
   "outputs": [],
   "source": [
    "fb_file=os.path.join(top_folder,ISO,\"wp_data\",\"fb_weight_gmm.tif\")\n",
    "wp_admin_file=os.path.join(top_folder,ISO,\"wp_data\",\"shp\", ISO+\"_subnational_2000_2020.shp\")\n",
    "wp_census_file=os.path.join(top_folder,ISO,\"wp_data\",ISO+\"_population_2000_2020.csv\")"
   ]
  },
  {
   "cell_type": "code",
   "execution_count": 6,
   "metadata": {},
   "outputs": [],
   "source": [
    "admin=gpd.read_file(wp_admin_file)\n",
    "wp_census = pd.read_csv(wp_census_file)\n",
    "amdin_key=admin.columns[1]\n",
    "wp_key=wp_census.columns[1]\n",
    "admin=admin.merge(wp_census, left_on=amdin_key, right_on=wp_key)\n",
    "rec_no=len(admin)\n",
    "X=np.zeros((n_component, rec_no))"
   ]
  },
  {
   "cell_type": "code",
   "execution_count": 7,
   "metadata": {},
   "outputs": [],
   "source": [
    "raster=rasterio.open(fb_file)\n",
    "df_y=pd.DataFrame(np.float32(admin[\"P_\"+year]))\n",
    "df_s=pd.DataFrame(np.zeros(rec_no))\n",
    "df_s[:]='admin3'"
   ]
  },
  {
   "cell_type": "code",
   "execution_count": 8,
   "metadata": {},
   "outputs": [],
   "source": [
    "raster=rasterio.open(fb_file)"
   ]
  },
  {
   "cell_type": "code",
   "execution_count": 9,
   "metadata": {},
   "outputs": [
    {
     "name": "stdout",
     "output_type": "stream",
     "text": [
      "aggregation in progress..\n"
     ]
    }
   ],
   "source": [
    "print(\"aggregation in progress..\")"
   ]
  },
  {
   "cell_type": "code",
   "execution_count": 10,
   "metadata": {},
   "outputs": [
    {
     "name": "stderr",
     "output_type": "stream",
     "text": [
      "100%|██████████| 932/932 [00:52<00:00, 17.76it/s] \n"
     ]
    }
   ],
   "source": [
    "i=0\n",
    "for k in tqdm.tqdm(range(rec_no)):\n",
    "    geom = admin['geometry'][k]\n",
    "    #build up\n",
    "    tmp, tmp_mask = mask.mask(raster, [geom], crop=True)\n",
    "    for j in range(n_component):\n",
    "        X[j][i]=len(tmp[np.where(tmp==j+1)])\n",
    "    i=i+1"
   ]
  },
  {
   "cell_type": "code",
   "execution_count": 11,
   "metadata": {
    "scrolled": true
   },
   "outputs": [],
   "source": [
    "df_x=pd.DataFrame(X)\n",
    "df_x=df_x.T\n",
    "df_x['y']=df_y\n",
    "df_x['s']=df_s\n",
    "#df_x['ADM1_NAME']=pd.DataFrame(admin[\"adm_name\"])"
   ]
  },
  {
   "cell_type": "code",
   "execution_count": 12,
   "metadata": {},
   "outputs": [],
   "source": [
    "for index, row in admin.iterrows():  \n",
    "    try:\n",
    "        neighbors = admin[admin.geometry.touches(row['geometry'])].index.tolist() \n",
    "        df_tmp = df_x.loc[neighbors].agg('sum')\n",
    "        df_tmp['s']='sum1'\n",
    "        df_x=df_x.append(df_tmp,ignore_index=True)\n",
    "    except:\n",
    "        print('error')"
   ]
  },
  {
   "cell_type": "code",
   "execution_count": 13,
   "metadata": {
    "scrolled": true
   },
   "outputs": [],
   "source": [
    "#df_x_admin1=df_x.groupby('ADM1_NAME').agg('sum')\n",
    "#df_x_admin1['s']='admin1'"
   ]
  },
  {
   "cell_type": "code",
   "execution_count": 14,
   "metadata": {},
   "outputs": [],
   "source": [
    "#df_x=df_x.append(df_x_admin1, sort=False)"
   ]
  },
  {
   "cell_type": "code",
   "execution_count": 15,
   "metadata": {},
   "outputs": [],
   "source": [
    "df_x=df_x.drop(df_x.index[np.where(df_x['y']==0)[0]])\n",
    "df_x[\"sum\"] = df_x.iloc[:,0:n_component].sum(axis=1)\n",
    "df_x=df_x.drop(df_x.index[np.where(df_x['sum']==0)])"
   ]
  },
  {
   "cell_type": "code",
   "execution_count": 16,
   "metadata": {
    "scrolled": true
   },
   "outputs": [],
   "source": [
    "df_x=df_x.reset_index(drop=True)"
   ]
  },
  {
   "cell_type": "code",
   "execution_count": 17,
   "metadata": {},
   "outputs": [],
   "source": [
    "df_x.to_pickle(os.path.join(top_folder,ISO,\"df_x.pkl\"))"
   ]
  },
  {
   "cell_type": "code",
   "execution_count": null,
   "metadata": {},
   "outputs": [],
   "source": []
  }
 ],
 "metadata": {
  "kernelspec": {
   "display_name": "Python 3",
   "language": "python",
   "name": "python3"
  },
  "language_info": {
   "codemirror_mode": {
    "name": "ipython",
    "version": 3
   },
   "file_extension": ".py",
   "mimetype": "text/x-python",
   "name": "python",
   "nbconvert_exporter": "python",
   "pygments_lexer": "ipython3",
   "version": "3.7.3"
  }
 },
 "nbformat": 4,
 "nbformat_minor": 2
}
