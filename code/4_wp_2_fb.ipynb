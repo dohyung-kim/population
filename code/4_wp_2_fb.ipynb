{
 "cells": [
  {
   "cell_type": "markdown",
   "metadata": {},
   "source": [
    "# Assign WP population density weights to FB"
   ]
  },
  {
   "cell_type": "code",
   "execution_count": 14,
   "metadata": {
    "scrolled": true
   },
   "outputs": [],
   "source": [
    "import os\n",
    "import sys\n",
    "import argparse \n",
    "import numpy as np\n",
    "import rasterio\n",
    "import pandas as pd\n",
    "import numpy as np\n",
    "import tqdm\n",
    "import itertools\n",
    "import multiprocess as mp\n",
    "import glob\n",
    "import gdal\n",
    "import subprocess"
   ]
  },
  {
   "cell_type": "code",
   "execution_count": 15,
   "metadata": {},
   "outputs": [
    {
     "name": "stdout",
     "output_type": "stream",
     "text": [
      "--------------------------------------------------------------------------------------\n",
      "Population data process 4/7: assign population density weights to FB settlement pixels\n",
      "--------------------------------------------------------------------------------------\n"
     ]
    }
   ],
   "source": [
    "print('--------------------------------------------------------------------------------------')\n",
    "print('Population data process 4/7: assign population density weights to FB settlement pixels')\n",
    "print('--------------------------------------------------------------------------------------')"
   ]
  },
  {
   "cell_type": "code",
   "execution_count": 16,
   "metadata": {},
   "outputs": [],
   "source": [
    "#setting up paths for files\n",
    "#top_folder=\"/home/dohyungkim/population\"\n",
    "#ISO=\"IDN\"\n",
    "#year=\"2015\""
   ]
  },
  {
   "cell_type": "code",
   "execution_count": null,
   "metadata": {},
   "outputs": [],
   "source": [
    "# Initialize parser \n",
    "my_parser = argparse.ArgumentParser(description='initial input')\n",
    "my_parser.add_argument('top_folder',metavar='top_folder',type=str,help='working folder')\n",
    "my_parser.add_argument('ISO',metavar='ISO',type=str,help='3 character country iso code')\n",
    "my_parser.add_argument('year',metavar='year',type=str,help='population year')\n",
    "args = my_parser.parse_args()\n",
    "top_folder = args.top_folder\n",
    "ISO = args.ISO\n",
    "year = args.year\n",
    "if not os.path.isdir(top_folder):\n",
    "    print('The path specified does not exist')\n",
    "    sys.exit()"
   ]
  },
  {
   "cell_type": "code",
   "execution_count": 17,
   "metadata": {},
   "outputs": [],
   "source": [
    "fb_path=os.path.join(top_folder,ISO,\"fb_data\")\n",
    "fb_tile_path=os.path.join(top_folder,ISO,\"fb_data\",\"fb_tiles\")\n",
    "wp_path=os.path.join(top_folder,ISO,\"wp_data\")\n",
    "out_tile_path=os.path.join(top_folder,ISO,\"fb_data\",\"out_tiles\")"
   ]
  },
  {
   "cell_type": "code",
   "execution_count": 18,
   "metadata": {},
   "outputs": [],
   "source": [
    "#fb_files=glob.glob(os.path.join(fb_tile_path,'*.tif'))\n",
    "fb_files=os.listdir(fb_tile_path)\n",
    "wp_file=os.path.join(wp_path,'prd_files',\"rf_predict.vrt\")"
   ]
  },
  {
   "cell_type": "code",
   "execution_count": 19,
   "metadata": {},
   "outputs": [],
   "source": [
    "#open worldpop population file\n",
    "wp_data = rasterio.open(wp_file)\n",
    "wp_arr = wp_data.read(1)"
   ]
  },
  {
   "cell_type": "code",
   "execution_count": 7,
   "metadata": {},
   "outputs": [],
   "source": [
    "wp_arr[np.where(wp_arr<0)]=0\n",
    "wp_min = np.min(wp_arr[np.where(wp_arr>0)])"
   ]
  },
  {
   "cell_type": "code",
   "execution_count": 8,
   "metadata": {},
   "outputs": [],
   "source": [
    "def get_val(fb_file):\n",
    "    import time\n",
    "    try:\n",
    "        fb_data=rasterio.open(os.path.join(fb_tile_path,fb_file))\n",
    "        fb_arr=fb_data.read(1)\n",
    "        fb_where=np.array(np.where(~np.isnan(fb_arr)))\n",
    "        fb_where=fb_where.T\n",
    "        for n in range(len(fb_where)):\n",
    "            i,j=fb_where[n]\n",
    "            x, y  = fb_data.xy(i, j)\n",
    "            val = wp_arr[wp_data.index(x, y)]*0.09\n",
    "            if val!=0: #wp value can be 0 when fb value is not 0\n",
    "                fb_arr[i,j]=val\n",
    "            else:\n",
    "                fb_arr[i,j]=wp_min\n",
    "        \n",
    "        with rasterio.open(\n",
    "            os.path.join(out_tile_path,fb_file),\n",
    "            'w',\n",
    "            driver='GTiff',\n",
    "            height=fb_arr.shape[0],\n",
    "            width=fb_arr.shape[1],\n",
    "            count=1,\n",
    "            dtype=fb_arr.dtype,\n",
    "            crs=fb_data.crs,\n",
    "            transform=fb_data.transform\n",
    "        ) as dst:\n",
    "            dst.write(fb_arr, 1)\n",
    "        \n",
    "        return(1)\n",
    "    except:\n",
    "        return(0)"
   ]
  },
  {
   "cell_type": "code",
   "execution_count": 9,
   "metadata": {},
   "outputs": [],
   "source": [
    "p = mp.Pool()"
   ]
  },
  {
   "cell_type": "code",
   "execution_count": 10,
   "metadata": {
    "scrolled": true
   },
   "outputs": [
    {
     "name": "stderr",
     "output_type": "stream",
     "text": [
      "100%|██████████| 4/4 [00:02<00:00,  1.78it/s]\n"
     ]
    }
   ],
   "source": [
    "results = list(tqdm.tqdm(p.imap_unordered(get_val, fb_files), total=len(fb_files)))"
   ]
  },
  {
   "cell_type": "code",
   "execution_count": 11,
   "metadata": {},
   "outputs": [],
   "source": [
    "p.close()\n",
    "p.join()"
   ]
  },
  {
   "cell_type": "code",
   "execution_count": 12,
   "metadata": {},
   "outputs": [],
   "source": [
    "os.chdir(out_tile_path)\n",
    "out_files=glob.glob(out_tile_path + '/*.tif')\n",
    "vrt=gdal.BuildVRT(os.path.join(out_tile_path,\"fb_weight.vrt\"), out_files)\n",
    "vrt.FlushCache()"
   ]
  },
  {
   "cell_type": "code",
   "execution_count": null,
   "metadata": {},
   "outputs": [],
   "source": []
  }
 ],
 "metadata": {
  "kernelspec": {
   "display_name": "Python 3",
   "language": "python",
   "name": "python3"
  },
  "language_info": {
   "codemirror_mode": {
    "name": "ipython",
    "version": 3
   },
   "file_extension": ".py",
   "mimetype": "text/x-python",
   "name": "python",
   "nbconvert_exporter": "python",
   "pygments_lexer": "ipython3",
   "version": "3.7.3"
  }
 },
 "nbformat": 4,
 "nbformat_minor": 2
}
